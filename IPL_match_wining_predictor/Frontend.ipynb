{
 "cells": [
  {
   "cell_type": "code",
   "execution_count": 2,
   "id": "2f09f6a7-2435-4330-9a72-ac35568af4ad",
   "metadata": {},
   "outputs": [
    {
     "name": "stderr",
     "output_type": "stream",
     "text": [
      "2024-12-23 11:11:58.320 \n",
      "  \u001b[33m\u001b[1mWarning:\u001b[0m to view this Streamlit app on a browser, run it with the following\n",
      "  command:\n",
      "\n",
      "    streamlit run /Users/anaconda3/lib/python3.12/site-packages/ipykernel_launcher.py [ARGUMENTS]\n"
     ]
    }
   ],
   "source": [
    "import pickle\n",
    "\n",
    "\n",
    "\n",
    "import streamlit as st\n",
    "import pandas as pd\n",
    "\n",
    "\n",
    "teams = ['Sunrisers Hyderabad',\n",
    " 'Mumbai Indians',\n",
    " 'Royal Challengers Bangalore',\n",
    " 'Kolkata Knight Riders',\n",
    " 'Kings XI Punjab',\n",
    " 'Chennai Super Kings',\n",
    " 'Rajasthan Royals',\n",
    " 'Delhi Capitals']\n",
    "\n",
    "cities = ['Hyderabad', 'Bangalore', 'Mumbai', 'Indore', 'Kolkata', 'Delhi',\n",
    "       'Chandigarh', 'Jaipur', 'Chennai', 'Cape Town', 'Port Elizabeth',\n",
    "       'Durban', 'Centurion', 'East London', 'Johannesburg', 'Kimberley',\n",
    "       'Bloemfontein', 'Ahmedabad', 'Cuttack', 'Nagpur', 'Dharamsala',\n",
    "       'Visakhapatnam', 'Pune', 'Raipur', 'Ranchi', 'Abu Dhabi',\n",
    "       'Sharjah', 'Mohali', 'Bengaluru']\n",
    "\n",
    "pipe = pickle.load(open(\"pipe.pkl\",\"rb\"))\n",
    "st.title(\"IPL Win Predictor\")\n",
    "\n",
    "col1, col2 = st.columns(2)\n",
    "\n",
    "with col1:\n",
    "    Batting_Team = st.selectbox(\"Select the Batting Team\",sorted(teams))\n",
    "with col2:\n",
    "    Bowling_Team = st.selectbox(\"Select the Bowling Team\",sorted(teams))\n",
    "\n",
    "selected_city = st.selectbox(\"Select Host City\",sorted(cities))\n",
    "\n",
    "target = st.number_input(\"Target\")\n",
    "\n",
    "col3, col4, col5 = st.columns(3)\n",
    "\n",
    "with col3:\n",
    "    score = st.number_input(\"Score\")\n",
    "with col4:\n",
    "    overs = st.number_input(\"Overs Completed\")\n",
    "with col5:\n",
    "    wickets = st.number_input(\"Wicket Out\")\n",
    "\n",
    "if st.button(\"Predict Probability\"):\n",
    "    runs_left = target - score\n",
    "    balls_left = 120 - (overs*6)\n",
    "    wickets = 10 - wickets\n",
    "    crr = score/overs\n",
    "    rrr = (runs_left*6)/balls_left\n",
    "\n",
    "    input_df = pd.DataFrame({\n",
    "        \"batting_team\": [Batting_Team],\n",
    "        \"bowling_team\": [Bowling_Team],\n",
    "        \"city\": [selected_city],\n",
    "        \"runs_left\": [runs_left],\n",
    "        \"balls_left\": [balls_left],\n",
    "        \"wickets\": [wickets],  # Corrected here\n",
    "        \"total_runs_x\": [target],\n",
    "        \"crr\": [crr],\n",
    "        \"rrr\": [rrr]\n",
    "    })\n",
    "\n",
    "    st.table(input_df)\n",
    "\n",
    "    result = pipe.predict_proba(input_df)\n",
    "    loss = result[0][0]\n",
    "    win = result[0][1]\n",
    "\n",
    "    st.header(Batting_Team + \"- \" + str(round(win*100)) + \"%\")\n",
    "    st.header(Bowling_Team + \"- \" + str(round(loss*100)) + \"%\")"
   ]
  },
  {
   "cell_type": "code",
   "execution_count": null,
   "id": "f7be5697-8092-44fd-9b8e-a674b69c235a",
   "metadata": {},
   "outputs": [],
   "source": []
  }
 ],
 "metadata": {
  "kernelspec": {
   "display_name": "Python 3 (ipykernel)",
   "language": "python",
   "name": "python3"
  },
  "language_info": {
   "codemirror_mode": {
    "name": "ipython",
    "version": 3
   },
   "file_extension": ".py",
   "mimetype": "text/x-python",
   "name": "python",
   "nbconvert_exporter": "python",
   "pygments_lexer": "ipython3",
   "version": "3.12.4"
  }
 },
 "nbformat": 4,
 "nbformat_minor": 5
}
